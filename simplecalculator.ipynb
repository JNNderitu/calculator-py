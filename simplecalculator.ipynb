{
 "cells": [
  {
   "cell_type": "markdown",
   "id": "bdb64adf",
   "metadata": {},
   "source": [
    ">>### Calculator"
   ]
  },
  {
   "cell_type": "code",
   "execution_count": 4,
   "id": "dadd270e-d23d-4818-8d1a-8faa99b801e9",
   "metadata": {},
   "outputs": [
    {
     "name": "stdout",
     "output_type": "stream",
     "text": [
      "< Simple Calculator >\n",
      "Subtraction of 12 and 13 = -1\n"
     ]
    }
   ],
   "source": [
    "### Calculator\n",
    "\n",
    "def calculator():\n",
    "    print (\"< Simple Calculator >\")\n",
    "\n",
    "    num_1 = input(\"Enter the first number: \")\n",
    "    if num_1.isdigit():\n",
    "        num_1 = int(num_1)\n",
    "        # print(f\"{num_1 = }\")\n",
    "    else:\n",
    "        print(\"Please enter a number next time!\")\n",
    "        quit()\n",
    "\n",
    "    num_2 = input(\"Enter the second number\")\n",
    "    if num_2.isdigit():\n",
    "        num_2 = int(num_2)\n",
    "    else:\n",
    "        print(\"Please enter a number next time\")\n",
    "        quit()\n",
    "        # print (f\"{num_2 = }\")\n",
    "    \n",
    "\n",
    "    op = ['+', '-', '*', '/', '%', '**']\n",
    "\n",
    "    operation = input(\"choose operation(+, -, *, /, %)\")\n",
    "    while True:\n",
    "        if operation == '+':\n",
    "            print(f\"Addition of {num_1} and {num_2} = {num_1+num_2}\")\n",
    "            break\n",
    "        elif operation == '-':\n",
    "            print(f\"Subtraction of {num_1} and {num_2} = {num_1 - num_2}\")\n",
    "            break\n",
    "        elif operation == '*':\n",
    "            print (f\"Product of {num_1} by {num_2} = {num_1 * num_2}\")\n",
    "            break\n",
    "        elif operation == '/':\n",
    "            print (f\"Division of {num_1} by {num_2} = {num_1 / num_2}\")\n",
    "            break\n",
    "        elif operation == '**':\n",
    "            print (f\"Power:[{num_1} raised to power {num_2}] = {num_1 ** num_2}\")\n",
    "            break\n",
    "        elif operation == '%':\n",
    "            print (f\"Modulus of {num_1} by {num_2} = {num_1 % num_2}\")\n",
    "            break\n",
    "        else:\n",
    "            print (\"Invalid Operation\")\n",
    "            break\n",
    "\n",
    "calculator()  ## calling the function to use the calculator."
   ]
  },
  {
   "cell_type": "markdown",
   "id": "85a7573b",
   "metadata": {},
   "source": [
    ">>### Average Grade calculator"
   ]
  },
  {
   "cell_type": "code",
   "execution_count": null,
   "id": "51167f93-1bf5-4cd2-86ee-60d3cb4bea64",
   "metadata": {},
   "outputs": [
    {
     "name": "stdout",
     "output_type": "stream",
     "text": [
      "The average score is 48.83\n",
      "Grade:\u001b[33m D\n"
     ]
    }
   ],
   "source": [
    "from colorama import Fore\n",
    "\n",
    "scores = [9, 63, 93, 4, 92, 32]\n",
    "def grade(scores):\n",
    "    average = sum(scores) / len(scores)\n",
    "    print (f\"The average score is {round(average, 2)}\")\n",
    "\n",
    "    def assign_grade():\n",
    "        if average >= 70:\n",
    "            print(f\"Grade:{Fore.GREEN} A\")\n",
    "        elif average >= 60 and average < 70:\n",
    "            print (f\"Grade:{Fore.BLUE} B\")\n",
    "        elif average >= 50 and average < 60:\n",
    "            print (f\"Grade:{Fore.CYAN} C\")\n",
    "        elif average >= 45 and average < 50:\n",
    "            print (f\"Grade:{Fore.YELLOW} D\")\n",
    "        elif average < 45:\n",
    "            print (f\"Grade:{Fore.RED} F\")\n",
    "        else:\n",
    "            print (f\"{Fore.LIGHTYELLOW_EX} Not a score!\")\n",
    "    assign_grade()\n",
    "\n",
    "\n",
    "grade(scores)"
   ]
  },
  {
   "cell_type": "code",
   "execution_count": 11,
   "id": "d4b6eb55",
   "metadata": {},
   "outputs": [
    {
     "data": {
      "text/plain": [
       "42"
      ]
     },
     "execution_count": 11,
     "metadata": {},
     "output_type": "execute_result"
    }
   ],
   "source": [
    "list_1 = [1, 9, 7, 4, 2, 2, 8, 9]\n",
    "# print(sorted(set(list_1)))\n",
    "sum(list_1)"
   ]
  },
  {
   "cell_type": "markdown",
   "id": "051b8032",
   "metadata": {},
   "source": [
    ">> ### BMI Calculator"
   ]
  },
  {
   "cell_type": "code",
   "execution_count": 26,
   "id": "f2939564-6ba5-4de8-94fc-3f35d6527099",
   "metadata": {},
   "outputs": [
    {
     "name": "stdout",
     "output_type": "stream",
     "text": [
      "James, your BMI is 21.5 kg/m2 -Normal weight.\n",
      "healthy range i.e Low risk.\n"
     ]
    }
   ],
   "source": [
    "\n",
    "## Getting the users input\n",
    "name: str = input(\"Enter your name: \")\n",
    "\n",
    "height= float(input(\"Enter your height(in m): \"))\n",
    "weight= float(input(\"Enter your weight in kg: \"))\n",
    "\n",
    "## Operation\n",
    "square = lambda a: a**2\n",
    "division = lambda a, b: a / b\n",
    "\n",
    "bmi: int = division(weight, square(height))\n",
    "if round(bmi, 1) <= 18.5:\n",
    "    print(f\"{name}, your BMI is {round(bmi, 1)} kg/m2 -Underweight.\")\n",
    "    print(\"Possible nutritional deficiency.\")\n",
    "\n",
    "elif round(bmi, 1)<=22.9:\n",
    "    print(f\"{name}, your BMI is {round(bmi, 1)} kg/m2 -Normal weight.\")\n",
    "    print(\"healthy range i.e Low risk.\")\n",
    "\n",
    "elif round(bmi, 1)<= 27.4:\n",
    "    print(f\"{name}, your BMI is {round(bmi, 1)} kg/m2 -Mild to moderate overweight.\")\n",
    "    print(\"You have a moderate risk of developing Hypertension, stroke and diabetes mellitus.\")\n",
    "\n",
    "else:\n",
    "    print(f\"{name}, your BMI is {round(bmi, 1)} kg/m2 -overweight or obese.\")\n",
    "    print(\"You have a high risk of developing heart disease, Hypertension,\" \\\n",
    "    \" diabetis mellitus, stroke, metabolic syndrome.\" \\\n",
    "    \"See a health professional or your doctor for further guidance on this\")"
   ]
  },
  {
   "cell_type": "code",
   "execution_count": null,
   "id": "a15ff8a9-d0cd-4f0a-a897-2ea5e2fa2bd0",
   "metadata": {},
   "outputs": [],
   "source": [
    "### Aliasing. Two variables pointing to the same list object in the memory.\n",
    "### changes in one list will will also reflect in the second list.\n",
    "list1 = [1, 2, 3]\n",
    "list2 = list1\n",
    "list2.append(4)\n",
    "print(f\"List1: {list1}\")\n",
    "\n",
    "### To create a new seperate list\n",
    "## Change in one list will not affect the elements of the other list.\n",
    "list3 = [2, 3, 4]\n",
    "list4 = list.copy(list3)\n",
    "list4.append(5)\n",
    "\n",
    "print(f\"List3: {list3}\")\n",
    "print(f\"List4: {list4}\")\n",
    "\n",
    "## You can also store the contents of an entire list into another using slicing{ A = b[ : ]}\n",
    "b = [3, 4, 5, 6]\n",
    "A = b[ : ]\n",
    "print(f\"A: {A}\")\n",
    "\n",
    "print(f\"List5: {list1 + list4}\")\n",
    "\n",
    "print(f\"x: {list1 | list4}\")\n"
   ]
  },
  {
   "cell_type": "markdown",
   "id": "5fdef8ba",
   "metadata": {},
   "source": [
    ">>### Computer Quiz"
   ]
  },
  {
   "cell_type": "code",
   "execution_count": null,
   "id": "854d33dd-16f6-4403-aa6b-cb78e2f5e926",
   "metadata": {},
   "outputs": [
    {
     "name": "stdout",
     "output_type": "stream",
     "text": [
      "Welcome to my computer quiz!\n",
      "Okay! lets play : )\n",
      "Correct\n",
      "Correct\n",
      "Correct\n",
      "Correct\n",
      "Okay! lets play : )\n"
     ]
    },
    {
     "ename": "",
     "evalue": "",
     "output_type": "error",
     "traceback": [
      "\u001b[1;31mThe Kernel crashed while executing code in the current cell or a previous cell. \n",
      "\u001b[1;31mPlease review the code in the cell(s) to identify a possible cause of the failure. \n",
      "\u001b[1;31mClick <a href='https://aka.ms/vscodeJupyterKernelCrash'>here</a> for more info. \n",
      "\u001b[1;31mView Jupyter <a href='command:jupyter.viewOutput'>log</a> for further details."
     ]
    }
   ],
   "source": [
    "print(\"Welcome to my computer quiz!\")\n",
    "\n",
    "playing = input(\"Do you want to play? \")\n",
    "if playing.lower() != 'yes':\n",
    "#   break\n",
    "    quit()\n",
    "\n",
    "print(\"Okay! lets play : )\")\n",
    "grade = 0\n",
    "answer = input(\"What does CPU stand for? \")\n",
    "if answer.lower() == \"central processing unit\":\n",
    "    print(\"Correct\")\n",
    "    grade += 1\n",
    "else:\n",
    "    print(\"Incorrect\")\n",
    "    \n",
    "answer = input(\"What does GPU stand for? \")\n",
    "if answer.lower() == (\"graphics processing unit\"):\n",
    "    print(\"Correct\")\n",
    "    grade += 1\n",
    "else:\n",
    "    print(\"Incorrect\")\n",
    "\n",
    "answer = input(\"What does PSU stand for? \")\n",
    "if answer.lower() == \"power supply\":\n",
    "    print(\"Correct\")\n",
    "    grade += 1\n",
    "\n",
    "answer = input(\"What does WIFI stand for? \")\n",
    "if answer.lower() == \"wireless fidelity\":\n",
    "    print(\"Correct\")\n",
    "    grade += 1\n",
    "else:\n",
    "    print(\"Incorrect\")\n",
    "\n",
    "print(f\"You got {grade} questions right!\")\n",
    "print(f\" You got {str(grade/4*100)}%\")"
   ]
  }
 ],
 "metadata": {
  "kernelspec": {
   "display_name": "base",
   "language": "python",
   "name": "python3"
  },
  "language_info": {
   "codemirror_mode": {
    "name": "ipython",
    "version": 3
   },
   "file_extension": ".py",
   "mimetype": "text/x-python",
   "name": "python",
   "nbconvert_exporter": "python",
   "pygments_lexer": "ipython3",
   "version": "3.12.3"
  }
 },
 "nbformat": 4,
 "nbformat_minor": 5
}
